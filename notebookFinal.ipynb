{
 "metadata": {
  "language_info": {
   "codemirror_mode": {
    "name": "ipython",
    "version": 3
   },
   "file_extension": ".py",
   "mimetype": "text/x-python",
   "name": "python",
   "nbconvert_exporter": "python",
   "pygments_lexer": "ipython3",
   "version": "3.8.3-final"
  },
  "orig_nbformat": 2,
  "kernelspec": {
   "name": "python3",
   "display_name": "Python 3"
  }
 },
 "nbformat": 4,
 "nbformat_minor": 2,
 "cells": [
  {
   "cell_type": "code",
   "execution_count": 1,
   "metadata": {},
   "outputs": [],
   "source": [
    "import pandas as pd \n",
    "import numpy as np \n",
    "import matplotlib.pyplot as plt \n",
    "from sklearn.model_selection import train_test_split \n",
    "from sklearn.preprocessing import StandardScaler"
   ]
  },
  {
   "cell_type": "code",
   "execution_count": 2,
   "metadata": {},
   "outputs": [
    {
     "output_type": "execute_result",
     "data": {
      "text/plain": [
       "   0x  0y        1x        1y        2x        2y        3x        3y  \\\n",
       "0   0   0  0.123872 -0.017960  0.219229 -0.068171  0.312341 -0.105117   \n",
       "1   0   0  0.122147 -0.020746  0.215053 -0.071974  0.312275 -0.105592   \n",
       "2   0   0  0.117563 -0.022413  0.215767 -0.073250  0.309503 -0.107768   \n",
       "3   0   0  0.123284 -0.017237  0.222560 -0.068265  0.326233 -0.099741   \n",
       "4   0   0  0.110718 -0.012560  0.207945 -0.060300  0.303405 -0.093189   \n",
       "\n",
       "         4x        4y  ...   0_14   0_15   0_16   0_17   0_18   0_19   0_20  \\\n",
       "0  0.365503 -0.152174  ...  0.289  0.357  0.416  0.173  0.260  0.315  0.366   \n",
       "1  0.370285 -0.153577  ...  0.295  0.363  0.421  0.171  0.262  0.318  0.370   \n",
       "2  0.358946 -0.155869  ...  0.306  0.372  0.429  0.176  0.272  0.326  0.376   \n",
       "3  0.397841 -0.146186  ...  0.293  0.368  0.431  0.148  0.223  0.274  0.318   \n",
       "4  0.362125 -0.136103  ...  0.278  0.347  0.407  0.146  0.227  0.277  0.323   \n",
       "\n",
       "   Handedness  Label        Location  \n",
       "0      Left\\r      0    0/frame0.jpg  \n",
       "1      Left\\r      0    0/frame1.jpg  \n",
       "2      Left\\r      0   0/frame10.jpg  \n",
       "3      Left\\r      0  0/frame100.jpg  \n",
       "4      Left\\r      0  0/frame101.jpg  \n",
       "\n",
       "[5 rows x 65 columns]"
      ],
      "text/html": "<div>\n<style scoped>\n    .dataframe tbody tr th:only-of-type {\n        vertical-align: middle;\n    }\n\n    .dataframe tbody tr th {\n        vertical-align: top;\n    }\n\n    .dataframe thead th {\n        text-align: right;\n    }\n</style>\n<table border=\"1\" class=\"dataframe\">\n  <thead>\n    <tr style=\"text-align: right;\">\n      <th></th>\n      <th>0x</th>\n      <th>0y</th>\n      <th>1x</th>\n      <th>1y</th>\n      <th>2x</th>\n      <th>2y</th>\n      <th>3x</th>\n      <th>3y</th>\n      <th>4x</th>\n      <th>4y</th>\n      <th>...</th>\n      <th>0_14</th>\n      <th>0_15</th>\n      <th>0_16</th>\n      <th>0_17</th>\n      <th>0_18</th>\n      <th>0_19</th>\n      <th>0_20</th>\n      <th>Handedness</th>\n      <th>Label</th>\n      <th>Location</th>\n    </tr>\n  </thead>\n  <tbody>\n    <tr>\n      <th>0</th>\n      <td>0</td>\n      <td>0</td>\n      <td>0.123872</td>\n      <td>-0.017960</td>\n      <td>0.219229</td>\n      <td>-0.068171</td>\n      <td>0.312341</td>\n      <td>-0.105117</td>\n      <td>0.365503</td>\n      <td>-0.152174</td>\n      <td>...</td>\n      <td>0.289</td>\n      <td>0.357</td>\n      <td>0.416</td>\n      <td>0.173</td>\n      <td>0.260</td>\n      <td>0.315</td>\n      <td>0.366</td>\n      <td>Left\\r</td>\n      <td>0</td>\n      <td>0/frame0.jpg</td>\n    </tr>\n    <tr>\n      <th>1</th>\n      <td>0</td>\n      <td>0</td>\n      <td>0.122147</td>\n      <td>-0.020746</td>\n      <td>0.215053</td>\n      <td>-0.071974</td>\n      <td>0.312275</td>\n      <td>-0.105592</td>\n      <td>0.370285</td>\n      <td>-0.153577</td>\n      <td>...</td>\n      <td>0.295</td>\n      <td>0.363</td>\n      <td>0.421</td>\n      <td>0.171</td>\n      <td>0.262</td>\n      <td>0.318</td>\n      <td>0.370</td>\n      <td>Left\\r</td>\n      <td>0</td>\n      <td>0/frame1.jpg</td>\n    </tr>\n    <tr>\n      <th>2</th>\n      <td>0</td>\n      <td>0</td>\n      <td>0.117563</td>\n      <td>-0.022413</td>\n      <td>0.215767</td>\n      <td>-0.073250</td>\n      <td>0.309503</td>\n      <td>-0.107768</td>\n      <td>0.358946</td>\n      <td>-0.155869</td>\n      <td>...</td>\n      <td>0.306</td>\n      <td>0.372</td>\n      <td>0.429</td>\n      <td>0.176</td>\n      <td>0.272</td>\n      <td>0.326</td>\n      <td>0.376</td>\n      <td>Left\\r</td>\n      <td>0</td>\n      <td>0/frame10.jpg</td>\n    </tr>\n    <tr>\n      <th>3</th>\n      <td>0</td>\n      <td>0</td>\n      <td>0.123284</td>\n      <td>-0.017237</td>\n      <td>0.222560</td>\n      <td>-0.068265</td>\n      <td>0.326233</td>\n      <td>-0.099741</td>\n      <td>0.397841</td>\n      <td>-0.146186</td>\n      <td>...</td>\n      <td>0.293</td>\n      <td>0.368</td>\n      <td>0.431</td>\n      <td>0.148</td>\n      <td>0.223</td>\n      <td>0.274</td>\n      <td>0.318</td>\n      <td>Left\\r</td>\n      <td>0</td>\n      <td>0/frame100.jpg</td>\n    </tr>\n    <tr>\n      <th>4</th>\n      <td>0</td>\n      <td>0</td>\n      <td>0.110718</td>\n      <td>-0.012560</td>\n      <td>0.207945</td>\n      <td>-0.060300</td>\n      <td>0.303405</td>\n      <td>-0.093189</td>\n      <td>0.362125</td>\n      <td>-0.136103</td>\n      <td>...</td>\n      <td>0.278</td>\n      <td>0.347</td>\n      <td>0.407</td>\n      <td>0.146</td>\n      <td>0.227</td>\n      <td>0.277</td>\n      <td>0.323</td>\n      <td>Left\\r</td>\n      <td>0</td>\n      <td>0/frame101.jpg</td>\n    </tr>\n  </tbody>\n</table>\n<p>5 rows × 65 columns</p>\n</div>"
     },
     "metadata": {},
     "execution_count": 2
    }
   ],
   "source": [
    "dataset = pd.read_csv('dataset.csv') \n",
    "dataset.head()\n"
   ]
  },
  {
   "cell_type": "code",
   "execution_count": 3,
   "metadata": {},
   "outputs": [
    {
     "output_type": "stream",
     "name": "stdout",
     "text": [
      "<class 'pandas.core.frame.DataFrame'>\nRangeIndex: 16070 entries, 0 to 16069\nData columns (total 65 columns):\n #   Column      Non-Null Count  Dtype  \n---  ------      --------------  -----  \n 0   0x          16070 non-null  int64  \n 1   0y          16070 non-null  int64  \n 2   1x          16070 non-null  float64\n 3   1y          16070 non-null  float64\n 4   2x          16070 non-null  float64\n 5   2y          16070 non-null  float64\n 6   3x          16070 non-null  float64\n 7   3y          16070 non-null  float64\n 8   4x          16070 non-null  float64\n 9   4y          16070 non-null  float64\n 10  5x          16070 non-null  float64\n 11  5y          16070 non-null  float64\n 12  6x          16070 non-null  float64\n 13  6y          16070 non-null  float64\n 14  7x          16070 non-null  float64\n 15  7y          16070 non-null  float64\n 16  8x          16070 non-null  float64\n 17  8y          16070 non-null  float64\n 18  9x          16070 non-null  float64\n 19  9y          16070 non-null  float64\n 20  10x         16070 non-null  float64\n 21  10y         16070 non-null  float64\n 22  11x         16070 non-null  float64\n 23  11y         16070 non-null  float64\n 24  12x         16070 non-null  float64\n 25  12y         16070 non-null  float64\n 26  13x         16070 non-null  float64\n 27  13y         16070 non-null  float64\n 28  14x         16070 non-null  float64\n 29  14y         16070 non-null  float64\n 30  15x         16070 non-null  float64\n 31  15y         16070 non-null  float64\n 32  16x         16070 non-null  float64\n 33  16y         16070 non-null  float64\n 34  17x         16070 non-null  float64\n 35  17y         16070 non-null  float64\n 36  18x         16070 non-null  float64\n 37  18y         16070 non-null  float64\n 38  19x         16070 non-null  float64\n 39  19y         16070 non-null  float64\n 40  20x         16070 non-null  float64\n 41  20y         16070 non-null  float64\n 42  0_1         16070 non-null  float64\n 43  0_2         16070 non-null  float64\n 44  0_3         16070 non-null  float64\n 45  0_4         16070 non-null  float64\n 46  0_5         16070 non-null  float64\n 47  0_6         16070 non-null  float64\n 48  0_7         16070 non-null  float64\n 49  0_8         16070 non-null  float64\n 50  0_9         16070 non-null  float64\n 51  0_10        16070 non-null  float64\n 52  0_11        16070 non-null  float64\n 53  0_12        16070 non-null  float64\n 54  0_13        16070 non-null  float64\n 55  0_14        16070 non-null  float64\n 56  0_15        16070 non-null  float64\n 57  0_16        16070 non-null  float64\n 58  0_17        16070 non-null  float64\n 59  0_18        16070 non-null  float64\n 60  0_19        16070 non-null  float64\n 61  0_20        16070 non-null  float64\n 62  Handedness  16070 non-null  object \n 63  Label       16070 non-null  object \n 64  Location    16070 non-null  object \ndtypes: float64(60), int64(2), object(3)\nmemory usage: 8.0+ MB\n"
     ]
    },
    {
     "output_type": "execute_result",
     "data": {
      "text/plain": [
       "Index(['0x', '0y', '1x', '1y', '2x', '2y', '3x', '3y', '4x', '4y', '5x', '5y',\n",
       "       '6x', '6y', '7x', '7y', '8x', '8y', '9x', '9y', '10x', '10y', '11x',\n",
       "       '11y', '12x', '12y', '13x', '13y', '14x', '14y', '15x', '15y', '16x',\n",
       "       '16y', '17x', '17y', '18x', '18y', '19x', '19y', '20x', '20y', '0_1',\n",
       "       '0_2', '0_3', '0_4', '0_5', '0_6', '0_7', '0_8', '0_9', '0_10', '0_11',\n",
       "       '0_12', '0_13', '0_14', '0_15', '0_16', '0_17', '0_18', '0_19', '0_20',\n",
       "       'Handedness', 'Label', 'Location'],\n",
       "      dtype='object')"
      ]
     },
     "metadata": {},
     "execution_count": 3
    }
   ],
   "source": [
    "dataset.info()\n",
    "dataset.columns"
   ]
  },
  {
   "cell_type": "code",
   "execution_count": 4,
   "metadata": {},
   "outputs": [
    {
     "output_type": "execute_result",
     "data": {
      "text/plain": [
       "Right\\r    8323\n",
       "Left\\r     7747\n",
       "Name: Handedness, dtype: int64"
      ]
     },
     "metadata": {},
     "execution_count": 4
    }
   ],
   "source": [
    "dataset[\"Handedness\"].value_counts()"
   ]
  },
  {
   "cell_type": "code",
   "execution_count": 5,
   "metadata": {},
   "outputs": [
    {
     "output_type": "execute_result",
     "data": {
      "text/plain": [
       "   0x  0y        1x        1y        2x        2y        3x        3y  \\\n",
       "0   0   0  0.123872 -0.017960  0.219229 -0.068171  0.312341 -0.105117   \n",
       "1   0   0  0.122147 -0.020746  0.215053 -0.071974  0.312275 -0.105592   \n",
       "2   0   0  0.117563 -0.022413  0.215767 -0.073250  0.309503 -0.107768   \n",
       "3   0   0  0.123284 -0.017237  0.222560 -0.068265  0.326233 -0.099741   \n",
       "4   0   0  0.110718 -0.012560  0.207945 -0.060300  0.303405 -0.093189   \n",
       "\n",
       "         4x        4y  ...   0_14   0_15   0_16   0_17   0_18   0_19   0_20  \\\n",
       "0  0.365503 -0.152174  ...  0.289  0.357  0.416  0.173  0.260  0.315  0.366   \n",
       "1  0.370285 -0.153577  ...  0.295  0.363  0.421  0.171  0.262  0.318  0.370   \n",
       "2  0.358946 -0.155869  ...  0.306  0.372  0.429  0.176  0.272  0.326  0.376   \n",
       "3  0.397841 -0.146186  ...  0.293  0.368  0.431  0.148  0.223  0.274  0.318   \n",
       "4  0.362125 -0.136103  ...  0.278  0.347  0.407  0.146  0.227  0.277  0.323   \n",
       "\n",
       "   Handedness  Label        Location  \n",
       "0           0      0    0/frame0.jpg  \n",
       "1           0      0    0/frame1.jpg  \n",
       "2           0      0   0/frame10.jpg  \n",
       "3           0      0  0/frame100.jpg  \n",
       "4           0      0  0/frame101.jpg  \n",
       "\n",
       "[5 rows x 65 columns]"
      ],
      "text/html": "<div>\n<style scoped>\n    .dataframe tbody tr th:only-of-type {\n        vertical-align: middle;\n    }\n\n    .dataframe tbody tr th {\n        vertical-align: top;\n    }\n\n    .dataframe thead th {\n        text-align: right;\n    }\n</style>\n<table border=\"1\" class=\"dataframe\">\n  <thead>\n    <tr style=\"text-align: right;\">\n      <th></th>\n      <th>0x</th>\n      <th>0y</th>\n      <th>1x</th>\n      <th>1y</th>\n      <th>2x</th>\n      <th>2y</th>\n      <th>3x</th>\n      <th>3y</th>\n      <th>4x</th>\n      <th>4y</th>\n      <th>...</th>\n      <th>0_14</th>\n      <th>0_15</th>\n      <th>0_16</th>\n      <th>0_17</th>\n      <th>0_18</th>\n      <th>0_19</th>\n      <th>0_20</th>\n      <th>Handedness</th>\n      <th>Label</th>\n      <th>Location</th>\n    </tr>\n  </thead>\n  <tbody>\n    <tr>\n      <th>0</th>\n      <td>0</td>\n      <td>0</td>\n      <td>0.123872</td>\n      <td>-0.017960</td>\n      <td>0.219229</td>\n      <td>-0.068171</td>\n      <td>0.312341</td>\n      <td>-0.105117</td>\n      <td>0.365503</td>\n      <td>-0.152174</td>\n      <td>...</td>\n      <td>0.289</td>\n      <td>0.357</td>\n      <td>0.416</td>\n      <td>0.173</td>\n      <td>0.260</td>\n      <td>0.315</td>\n      <td>0.366</td>\n      <td>0</td>\n      <td>0</td>\n      <td>0/frame0.jpg</td>\n    </tr>\n    <tr>\n      <th>1</th>\n      <td>0</td>\n      <td>0</td>\n      <td>0.122147</td>\n      <td>-0.020746</td>\n      <td>0.215053</td>\n      <td>-0.071974</td>\n      <td>0.312275</td>\n      <td>-0.105592</td>\n      <td>0.370285</td>\n      <td>-0.153577</td>\n      <td>...</td>\n      <td>0.295</td>\n      <td>0.363</td>\n      <td>0.421</td>\n      <td>0.171</td>\n      <td>0.262</td>\n      <td>0.318</td>\n      <td>0.370</td>\n      <td>0</td>\n      <td>0</td>\n      <td>0/frame1.jpg</td>\n    </tr>\n    <tr>\n      <th>2</th>\n      <td>0</td>\n      <td>0</td>\n      <td>0.117563</td>\n      <td>-0.022413</td>\n      <td>0.215767</td>\n      <td>-0.073250</td>\n      <td>0.309503</td>\n      <td>-0.107768</td>\n      <td>0.358946</td>\n      <td>-0.155869</td>\n      <td>...</td>\n      <td>0.306</td>\n      <td>0.372</td>\n      <td>0.429</td>\n      <td>0.176</td>\n      <td>0.272</td>\n      <td>0.326</td>\n      <td>0.376</td>\n      <td>0</td>\n      <td>0</td>\n      <td>0/frame10.jpg</td>\n    </tr>\n    <tr>\n      <th>3</th>\n      <td>0</td>\n      <td>0</td>\n      <td>0.123284</td>\n      <td>-0.017237</td>\n      <td>0.222560</td>\n      <td>-0.068265</td>\n      <td>0.326233</td>\n      <td>-0.099741</td>\n      <td>0.397841</td>\n      <td>-0.146186</td>\n      <td>...</td>\n      <td>0.293</td>\n      <td>0.368</td>\n      <td>0.431</td>\n      <td>0.148</td>\n      <td>0.223</td>\n      <td>0.274</td>\n      <td>0.318</td>\n      <td>0</td>\n      <td>0</td>\n      <td>0/frame100.jpg</td>\n    </tr>\n    <tr>\n      <th>4</th>\n      <td>0</td>\n      <td>0</td>\n      <td>0.110718</td>\n      <td>-0.012560</td>\n      <td>0.207945</td>\n      <td>-0.060300</td>\n      <td>0.303405</td>\n      <td>-0.093189</td>\n      <td>0.362125</td>\n      <td>-0.136103</td>\n      <td>...</td>\n      <td>0.278</td>\n      <td>0.347</td>\n      <td>0.407</td>\n      <td>0.146</td>\n      <td>0.227</td>\n      <td>0.277</td>\n      <td>0.323</td>\n      <td>0</td>\n      <td>0</td>\n      <td>0/frame101.jpg</td>\n    </tr>\n  </tbody>\n</table>\n<p>5 rows × 65 columns</p>\n</div>"
     },
     "metadata": {},
     "execution_count": 5
    }
   ],
   "source": [
    "dataset[\"Handedness\"] = np.where(dataset[\"Handedness\"].str.contains(\"right\"), 1, 0)\n",
    "dataset.head()"
   ]
  },
  {
   "cell_type": "code",
   "execution_count": 29,
   "metadata": {},
   "outputs": [
    {
     "output_type": "stream",
     "name": "stdout",
     "text": [
      "0_1     0.027570\n0_2     0.049779\n0_3     0.077053\n0_4     0.100788\n0_5     0.042263\n0_6     0.062024\n0_7     0.092061\n0_8     0.128960\n0_9     0.039630\n0_10    0.063593\n0_11    0.106578\n0_12    0.147073\n0_13    0.041183\n0_14    0.061954\n0_15    0.100891\n0_16    0.137336\n0_17    0.047146\n0_18    0.062404\n0_19    0.089574\ndtype: float64\n"
     ]
    }
   ],
   "source": [
    "print(dataset.std(axis=0)[42:61])"
   ]
  },
  {
   "cell_type": "code",
   "execution_count": 6,
   "metadata": {},
   "outputs": [
    {
     "output_type": "execute_result",
     "data": {
      "text/plain": [
       "array([[ 0.12387231, -0.01796007,  0.21922916, ...,  0.315     ,\n",
       "         0.366     ,  0.        ],\n",
       "       [ 0.12214667, -0.02074552,  0.21505275, ...,  0.318     ,\n",
       "         0.37      ,  0.        ],\n",
       "       [ 0.11756349, -0.02241278,  0.21576661, ...,  0.326     ,\n",
       "         0.376     ,  0.        ],\n",
       "       ...,\n",
       "       [ 0.07603985, -0.00732273,  0.11780751, ...,  0.068     ,\n",
       "         0.058     ,  0.        ],\n",
       "       [ 0.08211881, -0.03339344,  0.10400295, ...,  0.119     ,\n",
       "         0.092     ,  0.        ],\n",
       "       [ 0.09794569,  0.0032872 ,  0.14370072, ...,  0.087     ,\n",
       "         0.066     ,  0.        ]])"
      ]
     },
     "metadata": {},
     "execution_count": 6
    }
   ],
   "source": [
    "# input \n",
    "x = np.array(dataset.drop([\"0x\",\"0y\",\"Label\",\"Location\"],axis=1))\n",
    "x"
   ]
  },
  {
   "cell_type": "code",
   "execution_count": 7,
   "metadata": {},
   "outputs": [
    {
     "output_type": "stream",
     "name": "stdout",
     "text": [
      "True\n(16070,)\n"
     ]
    }
   ],
   "source": [
    "\n",
    "print(np.all(np.isfinite(x)))\n",
    "print(x[:,0].shape)\n",
    "index = 0\n",
    "for i in x[:,0]:\n",
    "    if not np.isfinite(i):\n",
    "        print(index, i)\n",
    "    index +=1"
   ]
  },
  {
   "cell_type": "code",
   "execution_count": 8,
   "metadata": {},
   "outputs": [
    {
     "output_type": "execute_result",
     "data": {
      "text/plain": [
       "array(['0', '0', '0', ..., 'Z', 'Z', 'Z'], dtype=object)"
      ]
     },
     "metadata": {},
     "execution_count": 8
    }
   ],
   "source": [
    "# output \n",
    "y = dataset.drop(\"Location\",axis=1).iloc[:, -1].values\n",
    "y"
   ]
  },
  {
   "cell_type": "code",
   "execution_count": 9,
   "metadata": {},
   "outputs": [],
   "source": [
    "xtrain, xtest, ytrain, ytest = train_test_split(x, y, test_size = 0.30, random_state = 5)"
   ]
  },
  {
   "cell_type": "code",
   "execution_count": 10,
   "metadata": {},
   "outputs": [
    {
     "output_type": "stream",
     "name": "stdout",
     "text": [
      "[-0.17868617 -0.02407348 -0.30363719 -0.13749787 -0.34227632 -0.24685091\n -0.36865084 -0.33354887 -0.23306626 -0.23124591 -0.25014032 -0.30477238\n -0.21477637 -0.22324413 -0.19137442 -0.17790347 -0.1157833  -0.23283348\n -0.1265479  -0.29849273 -0.10852817 -0.18342882 -0.0958603  -0.1554611\n  0.00340843 -0.21981174 -0.0047124  -0.2752206  -0.01293656 -0.164579\n -0.00406638 -0.13850638  0.11765331 -0.19424564  0.11269933 -0.22464821\n  0.08572966 -0.15014261  0.08115023 -0.13495952  0.18        0.333\n  0.422       0.497       0.328       0.394       0.31        0.261\n  0.26        0.324       0.213       0.183       0.22        0.275\n  0.165       0.139       0.227       0.251       0.173       0.157\n  0.        ]\nA\n"
     ]
    }
   ],
   "source": [
    "print(xtrain[29])\n",
    "print(ytrain[29])"
   ]
  },
  {
   "cell_type": "code",
   "execution_count": 60,
   "metadata": {},
   "outputs": [],
   "source": [
    "# sc_x = StandardScaler() \n",
    "# xtrain = sc_x.fit_transform(xtrain)  \n",
    "# xtest = sc_x.transform(xtest) \n",
    "  \n",
    "# print (xtrain[0:10, :]) \n",
    "# print(ytrain[0:10])"
   ]
  },
  {
   "cell_type": "code",
   "execution_count": 11,
   "metadata": {},
   "outputs": [
    {
     "output_type": "execute_result",
     "data": {
      "text/plain": [
       "LogisticRegression(random_state=0)"
      ]
     },
     "metadata": {},
     "execution_count": 11
    }
   ],
   "source": [
    "from sklearn.linear_model import LogisticRegression \n",
    "classifier = LogisticRegression(random_state = 0) \n",
    "classifier.fit(xtrain, ytrain) "
   ]
  },
  {
   "cell_type": "code",
   "execution_count": 12,
   "metadata": {},
   "outputs": [],
   "source": [
    "y_pred = classifier.predict(xtest) "
   ]
  },
  {
   "cell_type": "code",
   "execution_count": 13,
   "metadata": {},
   "outputs": [
    {
     "output_type": "stream",
     "name": "stdout",
     "text": [
      "Confusion Matrix : \n [[121   0   0 ...   0   0   0]\n [  0 109   0 ...   0   0   0]\n [  0   0 160 ...   0   0   0]\n ...\n [  0   0   0 ... 110   0   0]\n [  0   0   0 ...   0 179   0]\n [  0   1   0 ...   2   0  48]]\n"
     ]
    }
   ],
   "source": [
    "from sklearn.metrics import confusion_matrix \n",
    "cm = confusion_matrix(ytest, y_pred) \n",
    "  \n",
    "print (\"Confusion Matrix : \\n\", cm)"
   ]
  },
  {
   "cell_type": "code",
   "execution_count": 14,
   "metadata": {},
   "outputs": [
    {
     "output_type": "stream",
     "name": "stdout",
     "text": [
      "Accuracy :  0.9332088778261771\n"
     ]
    }
   ],
   "source": [
    "from sklearn.metrics import accuracy_score \n",
    "print (\"Accuracy : \", accuracy_score(ytest, y_pred)) "
   ]
  },
  {
   "cell_type": "code",
   "execution_count": 16,
   "metadata": {},
   "outputs": [],
   "source": [
    "from sklearn.tree import DecisionTreeClassifier\n",
    "\n",
    "dtree = DecisionTreeClassifier(max_depth=100,max_features=None)\n",
    "dtree.fit(xtrain,ytrain)\n",
    "y_pred1 = dtree.predict(xtest)"
   ]
  },
  {
   "cell_type": "code",
   "execution_count": 17,
   "metadata": {},
   "outputs": [
    {
     "output_type": "stream",
     "name": "stdout",
     "text": [
      "Accuracy :  0.9668118647583489\n"
     ]
    }
   ],
   "source": [
    "print (\"Accuracy : \", accuracy_score(ytest, y_pred1)) "
   ]
  },
  {
   "cell_type": "code",
   "execution_count": 18,
   "metadata": {},
   "outputs": [
    {
     "output_type": "stream",
     "name": "stdout",
     "text": [
      "Accuracy :  0.9896287077369841\n"
     ]
    }
   ],
   "source": [
    "from sklearn.ensemble import RandomForestClassifier\n",
    "\n",
    "rfm = RandomForestClassifier(n_estimators=100,max_features=None,n_jobs=10)\n",
    "rfm.fit(xtrain,ytrain)\n",
    "y_pred2 = rfm.predict(xtest)\n",
    "print (\"Accuracy : \", accuracy_score(ytest, y_pred2))"
   ]
  },
  {
   "cell_type": "code",
   "execution_count": 19,
   "metadata": {},
   "outputs": [
    {
     "output_type": "stream",
     "name": "stdout",
     "text": [
      "Accuracy :  0.5339141257000622\n"
     ]
    }
   ],
   "source": [
    "from sklearn.svm import SVC\n",
    "\n",
    "svm = SVC(kernel=\"linear\",C=0.025,random_state=101)\n",
    "svm.fit(xtrain,ytrain)\n",
    "y_pred3 = svm.predict(xtest)\n",
    "print (\"Accuracy : \", accuracy_score(ytest, y_pred3)) "
   ]
  },
  {
   "cell_type": "code",
   "execution_count": 20,
   "metadata": {},
   "outputs": [
    {
     "output_type": "execute_result",
     "data": {
      "text/plain": [
       "['random_forest.joblib']"
      ]
     },
     "metadata": {},
     "execution_count": 20
    }
   ],
   "source": [
    "import joblib\n",
    "# save\n",
    "joblib.dump(classifier, \"logistic.joblib\")\n",
    "joblib.dump(rfm, \"random_forest.joblib\")\n"
   ]
  },
  {
   "cell_type": "code",
   "execution_count": 35,
   "metadata": {},
   "outputs": [
    {
     "output_type": "execute_result",
     "data": {
      "text/plain": [
       "array(['I', 'A', 'N', 'N', 'I', 'F', 'X', '2', 'R', 'E', '9', 'X', 'A',\n",
       "       'A', '4', 'N', 'W', '8', 'T', 'Y', 'E', 'E', '0', '8', 'J', '7',\n",
       "       '6', 'C', 'Y', 'Y', 'Y', 'F', '2', 'D', 'N', 'A', '9', '5', '3',\n",
       "       'V', '1', 'M', 'X', 'D', 'L', '7', 'O', 'X', '2', '9', '2', 'H',\n",
       "       'H', '9', 'Q', 'O', 'V', 'M', '6', '3', 'X', 'E', 'T', 'I', 'V',\n",
       "       'T', 'L', '4', '2', 'V', '3', 'G', 'B', '0', 'Y', 'N', 'U', 'G',\n",
       "       '4', 'A', 'R', 'J', '3', 'V', 'M', 'J', 'B', 'X', 'Q', 'S', 'L',\n",
       "       '2', 'I', 'A', 'V', 'L', 'K', 'W', 'R', 'E'], dtype=object)"
      ]
     },
     "metadata": {},
     "execution_count": 35
    }
   ],
   "source": [
    "ytest[:100]"
   ]
  },
  {
   "cell_type": "code",
   "execution_count": 36,
   "metadata": {},
   "outputs": [
    {
     "output_type": "execute_result",
     "data": {
      "text/plain": [
       "array(['I', 'A', 'N', 'N', 'I', 'F', 'X', '2', 'R', 'E', '9', 'X', 'A',\n",
       "       'A', '4', 'N', 'W', '8', 'T', 'Y', 'E', 'E', '0', '8', 'J', '7',\n",
       "       '6', 'C', 'Y', 'Y', 'Y', 'F', '2', 'D', 'N', 'A', '9', '5', '3',\n",
       "       'V', '1', 'M', 'X', 'D', 'L', '7', 'O', 'X', '2', '9', '2', 'H',\n",
       "       'H', '9', 'Q', 'O', 'V', 'M', '6', '3', 'X', 'E', 'T', 'I', 'V',\n",
       "       'T', 'L', '4', '2', 'V', '3', 'G', 'B', '0', 'Y', 'N', 'U', 'G',\n",
       "       '4', 'A', 'R', 'J', '3', 'V', 'M', 'J', 'B', 'X', 'Q', 'S', 'L',\n",
       "       '2', 'I', 'A', 'V', 'L', 'K', 'W', 'R', 'E'], dtype=object)"
      ]
     },
     "metadata": {},
     "execution_count": 36
    }
   ],
   "source": [
    "y_pred2[:100]"
   ]
  },
  {
   "cell_type": "code",
   "execution_count": 66,
   "metadata": {},
   "outputs": [
    {
     "output_type": "execute_result",
     "data": {
      "text/plain": [
       "array([ 1.18056388, -0.56972325,  1.24035657, -0.84371615,  1.22846497,\n",
       "       -1.00177947,  1.06214875, -0.99079317,  1.19873505, -0.27015928,\n",
       "        1.19497335, -0.16607875,  0.97749719,  0.5568105 ,  0.78064328,\n",
       "        0.65802475,  0.80282232, -0.16641324,  0.87771838, -0.05663556,\n",
       "        0.75342639,  0.58562703,  0.51851612,  0.55824704, -0.02003498,\n",
       "       -0.2246671 ,  0.32017267, -0.21196209,  0.37394675,  0.27920114,\n",
       "        0.12468843,  0.19939825, -0.61560351, -0.31907687, -0.17964981,\n",
       "       -0.22513353, -0.06358883,  0.17372845, -0.27925798,  0.11599051,\n",
       "        0.46494448,  0.71763534,  0.73153004,  0.4219576 ,  0.12391176,\n",
       "        0.07117936, -0.87204494, -1.04740635, -0.35590495, -0.42118929,\n",
       "       -0.99093766, -0.9513661 , -0.53358086, -0.51135235, -0.73625397,\n",
       "       -0.5501979 , -0.34717238, -0.70506209, -0.80900867, -0.5137729 ,\n",
       "        0.        ])"
      ]
     },
     "metadata": {},
     "execution_count": 66
    }
   ],
   "source": [
    "xtest[12]"
   ]
  },
  {
   "cell_type": "code",
   "execution_count": 67,
   "metadata": {},
   "outputs": [
    {
     "output_type": "execute_result",
     "data": {
      "text/plain": [
       "'A'"
      ]
     },
     "metadata": {},
     "execution_count": 67
    }
   ],
   "source": [
    "ytest[12]"
   ]
  },
  {
   "cell_type": "code",
   "execution_count": null,
   "metadata": {},
   "outputs": [],
   "source": []
  }
 ]
}